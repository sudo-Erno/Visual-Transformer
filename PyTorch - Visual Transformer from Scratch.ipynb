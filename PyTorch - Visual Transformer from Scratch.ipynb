{
 "cells": [
  {
   "cell_type": "markdown",
   "metadata": {},
   "source": [
    "Paper Explained- Vision Transformers (Bye Bye Convolutions?): https://medium.com/analytics-vidhya/vision-transformers-bye-bye-convolutions-e929d022e4ab\n",
    "\n",
    "AN IMAGE IS WORTH 16X16 WORDS: https://arxiv.org/pdf/2010.11929.pdf\n",
    "\n",
    "Buen articulo que explica el input: https://medium.datadriveninvestor.com/coding-the-vision-transformer-in-pytorch-part-1-birds-eye-view-1c0a79d8732e\n",
    "\n",
    "Codigo con explicacion #1: https://github.com/jankrepl/mildlyoverfitted/blob/master/github_adventures/vision_transformer/custom.py\n",
    "\n",
    "Attention Is All You Need: https://arxiv.org/pdf/1706.03762.pdf\n",
    "\n",
    "Codigo con explicacion #2: https://theaisummer.com/vision-transformer/"
   ]
  },
  {
   "cell_type": "code",
   "execution_count": 1,
   "metadata": {},
   "outputs": [
    {
     "name": "stderr",
     "output_type": "stream",
     "text": [
      "C:\\Users\\Erno\\anaconda3\\envs\\torchenv\\lib\\site-packages\\torchvision\\io\\image.py:13: UserWarning: Failed to load image Python extension: \n",
      "  warn(f\"Failed to load image Python extension: {e}\")\n"
     ]
    }
   ],
   "source": [
    "import torch\n",
    "import torch.nn as nn\n",
    "import cv2\n",
    "import matplotlib.pyplot as plt\n",
    "import math\n",
    "import torchvision.datasets as datasets\n",
    "from torchvision import transforms\n",
    "import random\n",
    "from torch.utils.data import DataLoader, Dataset"
   ]
  },
  {
   "cell_type": "markdown",
   "metadata": {},
   "source": [
    "# Hyperparameters"
   ]
  },
  {
   "cell_type": "code",
   "execution_count": 3,
   "metadata": {},
   "outputs": [],
   "source": [
    "HEIGHT = 32\n",
    "WIDTH = 32\n",
    "CHANNELS = 1\n",
    "BATCH_SIZE = 32\n",
    "PATCHES_DIM = 16\n",
    "EMBEDDING_DIM = 512\n",
    "NUM_CLASSES = 10\n",
    "NHEADS = 8\n",
    "DROPOUT_P = 0.1\n",
    "EPOCHS = 25\n",
    "LEARNING_RATE = 1e-3\n",
    "FORWARD_EXPANSION = 4\n",
    "MLP_EXPANSION = 3\n",
    "MOMENTUM = 0.9\n",
    "NUM_LAYERS = 8\n",
    "DEVICE = 'cuda' if torch.cuda.is_available() else 'cpu'"
   ]
  },
  {
   "cell_type": "code",
   "execution_count": 4,
   "metadata": {},
   "outputs": [],
   "source": [
    "DEVICE\n",
    "torch.cuda.empty_cache()"
   ]
  },
  {
   "cell_type": "markdown",
   "metadata": {},
   "source": [
    "# Create image tensor"
   ]
  },
  {
   "cell_type": "code",
   "execution_count": 5,
   "metadata": {},
   "outputs": [],
   "source": [
    "sample_image = torch.randn(BATCH_SIZE, WIDTH, HEIGHT, CHANNELS)"
   ]
  },
  {
   "cell_type": "markdown",
   "metadata": {},
   "source": [
    "# Create the input layer"
   ]
  },
  {
   "cell_type": "markdown",
   "metadata": {},
   "source": [
    "### Create the patched images and add the class embedding"
   ]
  },
  {
   "cell_type": "code",
   "execution_count": 6,
   "metadata": {},
   "outputs": [],
   "source": [
    "class PatchEmbedding(nn.Module):\n",
    "    def __init__(self, image_shape, patch_dim, emb_dim, device='cpu', dropout_p=0.1):\n",
    "        super(PatchEmbedding, self).__init__()\n",
    "        \n",
    "        self.b, self.w, self.h, self.c = image_shape\n",
    "        \n",
    "        assert (self.w * self.h) % (patch_dim ** 2) == 0, 'Patch dimension is not valid'\n",
    "        \n",
    "        self.device = device\n",
    "        self.dropout = nn.Dropout(dropout_p)\n",
    "        self.patch_dim = patch_dim\n",
    "        self.num_patches = (self.w * self.h) // (patch_dim ** 2)\n",
    "        \n",
    "        self.fc = nn.Sequential(\n",
    "            nn.Linear(self.c * self.patch_dim * self.patch_dim, emb_dim)\n",
    "        ).to(device)\n",
    "        \n",
    "    def forward(self, x):\n",
    "        x = x.to(self.device)\n",
    "        x = x.reshape(self.b, self.num_patches, self.c * self.patch_dim * self.patch_dim) # Shape - (batch, num_patches, channels * patch_dim * patch_dim)\n",
    "        x = self.dropout(self.fc(x))\n",
    "        \n",
    "        return x, self.num_patches"
   ]
  },
  {
   "cell_type": "markdown",
   "metadata": {},
   "source": [
    "### Create Positional Encoding"
   ]
  },
  {
   "cell_type": "code",
   "execution_count": 7,
   "metadata": {},
   "outputs": [],
   "source": [
    "class PositionalEncoding(nn.Module):\n",
    "    def __init__(self, emb_dim, num_patches, device='cpu', dropout_p=0.1):\n",
    "        super(PositionalEncoding, self).__init__()\n",
    "        \n",
    "        self.positions = torch.arange(0, emb_dim).expand(num_patches + 1, emb_dim).float()\n",
    "        self.dropout = nn.Dropout(dropout_p)\n",
    "        \n",
    "        for pos in range(num_patches):\n",
    "            for i in range(0, emb_dim, 2):\n",
    "                self.positions[pos, i] = math.sin(pos / (10000 ** (i / emb_dim)))\n",
    "                self.positions[pos, i+1] = math.cos(pos / (10000 ** (i / emb_dim)))\n",
    "                \n",
    "        self.register_buffer(\"pos\", self.positions)\n",
    "        self.positions = self.positions.to(device)\n",
    "    \n",
    "    def forward(self, x):\n",
    "        # x shape - (batch, num_patches + 1, dim)\n",
    "        # pos shape - (num_patches + 1, dim)\n",
    "        \n",
    "        return self.dropout(x + self.positions)"
   ]
  },
  {
   "cell_type": "markdown",
   "metadata": {},
   "source": [
    "## All together"
   ]
  },
  {
   "cell_type": "code",
   "execution_count": 8,
   "metadata": {},
   "outputs": [],
   "source": [
    "class TransformerInput(nn.Module):\n",
    "    def __init__(self, image_shape, patch_size, emb_size, num_categories, device='cpu', dropout_p=0.1):\n",
    "        super(TransformerInput, self).__init__()\n",
    "        \n",
    "        self.patch_emb = PatchEmbedding(image_shape, patch_size, emb_size, device, dropout_p)\n",
    "        self.category_embedding = nn.Parameter(torch.randn(image_shape[0], emb_size)).unsqueeze(0) # (1, batch_size, emb_dim)\n",
    "        self.emb_size = emb_size\n",
    "        self.dropout_p = dropout_p\n",
    "        self.device = device\n",
    "        \n",
    "    def forward(self, x):\n",
    "        # Input shape - (batch, width, height, channel)\n",
    "        x, num_patches = self.patch_emb(x) # Shape x - (batch, num_patches, emb_dim)\n",
    "        positional_encoding = PositionalEncoding(self.emb_size, num_patches, self.device, self.dropout_p)\n",
    "        x = x.transpose(0, 1) # Transpose to stack the tensors\n",
    "        x = torch.vstack((self.category_embedding.to(self.device), x)).transpose(0, 1) # shape - (batch, num_patches + 1, emd_size)\n",
    "        x = positional_encoding(x)\n",
    "        \n",
    "        return x"
   ]
  },
  {
   "cell_type": "markdown",
   "metadata": {},
   "source": [
    "# Create Attention"
   ]
  },
  {
   "cell_type": "code",
   "execution_count": 9,
   "metadata": {},
   "outputs": [],
   "source": [
    "class Attention(nn.Module):\n",
    "    def __init__(self, dim, nheads, att_bias=False, forward_expansion=4, device='cpu'):\n",
    "        super(Attention, self).__init__()\n",
    "        \n",
    "        assert dim % nheads == 0, 'Dimension of the model MUST be divisible by the number of heads'\n",
    "        \n",
    "        self.nheads = nheads\n",
    "        self.dim = dim\n",
    "        self.device = device\n",
    "        self.heads_dim = dim // nheads\n",
    "        \n",
    "        self.w_query = nn.Linear(self.heads_dim, self.heads_dim, bias=att_bias).to(device)\n",
    "        self.w_key = nn.Linear(self.heads_dim, self.heads_dim, bias=att_bias).to(device)\n",
    "        self.w_value = nn.Linear(self.heads_dim, self.heads_dim, bias=att_bias).to(device)\n",
    "        \n",
    "        self.fc = nn.Sequential(\n",
    "            nn.Linear(dim, dim * forward_expansion),\n",
    "            nn.ReLU(),\n",
    "            nn.Linear(dim * forward_expansion, dim)\n",
    "        ).to(device)\n",
    "        \n",
    "    def forward(self, x):\n",
    "        batch_size, num_patches, dim = x.shape\n",
    "        x = x.to(self.device)\n",
    "        \n",
    "        value = x.reshape(batch_size, num_patches, self.nheads, self.heads_dim)\n",
    "        key = x.reshape(batch_size, num_patches, self.nheads, self.heads_dim)\n",
    "        query = x.reshape(batch_size, num_patches, self.nheads, self.heads_dim)\n",
    "        \n",
    "        query = self.w_query(query) # shape - (batch, num_patches, nheads, head_dim)\n",
    "        key = self.w_key(key)\n",
    "        value = self.w_value(value)\n",
    "        \n",
    "        # Reshape - (batch, nheads, num_patches, heads_dim)\n",
    "        query = query.transpose(1, 2)\n",
    "        key = key.transpose(1, 2)\n",
    "        \n",
    "        att = torch.einsum(\"bhid,bhjp->bhij\", query, key) # shape - (batch, nheads, num_patches + cat_emb, num_patches + cat_emb)\n",
    "        att = att / (dim ** 0.5)\n",
    "        att = torch.softmax(att, dim=-1)\n",
    "        att = torch.einsum(\"bhij,bphd->bihd\", att, value) # shape - (batch, num_patches + cat_emb, nheads, heads_dim)\n",
    "        \n",
    "        out = att.reshape(batch_size, att.shape[1], self.heads_dim * self.nheads)\n",
    "        \n",
    "        out = self.fc(out)\n",
    "        \n",
    "        return out"
   ]
  },
  {
   "cell_type": "markdown",
   "metadata": {},
   "source": [
    "# Create Transformer Encoder"
   ]
  },
  {
   "cell_type": "code",
   "execution_count": 10,
   "metadata": {},
   "outputs": [],
   "source": [
    "class TransformerEncoder(nn.Module):\n",
    "    def __init__(self, emb_dim, nheads, dropout_p=0.1, att_bias=False, forward_expansion=4, device='cpu'):\n",
    "        super(TransformerEncoder, self).__init__()\n",
    "        \n",
    "        self.attention = Attention(emb_dim, nheads, att_bias=att_bias, forward_expansion=forward_expansion, device=device)\n",
    "        \n",
    "        self.norm1 = nn.LayerNorm(emb_dim).to(device)\n",
    "        self.norm2 = nn.LayerNorm(emb_dim).to(device)\n",
    "        \n",
    "        self.fc = nn.Linear(emb_dim, emb_dim).to(device)\n",
    "        \n",
    "    def forward(self, x):\n",
    "        y = self.norm1(x)\n",
    "        y = self.attention(y)\n",
    "        x = x + y\n",
    "\n",
    "        z = self.norm2(x)\n",
    "        z = self.fc(z)\n",
    "\n",
    "        x = x + z\n",
    "        \n",
    "        return x"
   ]
  },
  {
   "cell_type": "markdown",
   "metadata": {},
   "source": [
    "# MLP Head"
   ]
  },
  {
   "cell_type": "code",
   "execution_count": 11,
   "metadata": {},
   "outputs": [],
   "source": [
    "class MLPHead(nn.Module):\n",
    "    def __init__(self, emb_dim, num_classes, expansion=3, device='cpu', dropout_p=0.1):\n",
    "        super(MLPHead, self).__init__()\n",
    "        \n",
    "        inner_dim = int(emb_dim * expansion)\n",
    "        self.dropout = nn.Dropout(dropout_p)\n",
    "        \n",
    "        self.fc = nn.Linear(emb_dim, num_classes).to(device)\n",
    "        \n",
    "    def forward(self, x):\n",
    "        return self.dropout(self.fc(x.float()))"
   ]
  },
  {
   "cell_type": "markdown",
   "metadata": {},
   "source": [
    "# Create the Visual Transformer"
   ]
  },
  {
   "cell_type": "code",
   "execution_count": 12,
   "metadata": {},
   "outputs": [],
   "source": [
    "class ViT(nn.Module):\n",
    "    def __init__(self, \n",
    "                 image_shape,\n",
    "                 patch_size,\n",
    "                 emb_dim,\n",
    "                 num_categories,\n",
    "                 nheads,\n",
    "                 num_layers=1,\n",
    "                 dropout_p=0.1,\n",
    "                 att_bias=False,\n",
    "                 forward_expansion=4,\n",
    "                 mlp_expansion=3,\n",
    "                 device='cpu'\n",
    "                ):\n",
    "        \n",
    "        super(ViT,self).__init__()\n",
    "        \n",
    "        self.transformer_input = TransformerInput(image_shape, patch_size, emb_dim, num_categories, device, dropout_p) # shape - (batch, num_patches + category_emb, dim)\n",
    "        \n",
    "        self.layers = nn.ModuleList(\n",
    "            [\n",
    "                TransformerEncoder(emb_dim, nheads, dropout_p, att_bias, forward_expansion, device)\n",
    "                for _ in range(num_layers)\n",
    "            ]\n",
    "        )\n",
    "        \n",
    "        self.mlp = MLPHead(emb_dim, num_categories, mlp_expansion, device, dropout_p)\n",
    "        \n",
    "    def forward(self, x):\n",
    "        out = self.transformer_input(x)\n",
    "        \n",
    "        for layer in self.layers:\n",
    "            out = layer(out)\n",
    "            \n",
    "        out = out[:,0,:]\n",
    "        out = self.mlp(out)\n",
    "        \n",
    "        return out"
   ]
  },
  {
   "cell_type": "code",
   "execution_count": 13,
   "metadata": {
    "scrolled": true
   },
   "outputs": [],
   "source": [
    "mnist_trainset = datasets.MNIST(root=r'F:\\Datasets\\PyTorch MNIST', train=True, download=True, transform=None)\n",
    "mnist_testset = datasets.MNIST(root=r'F:\\Datasets\\PyTorch MNIST', train=False, download=True, transform=None)"
   ]
  },
  {
   "cell_type": "markdown",
   "metadata": {},
   "source": [
    "# Preprocess the images"
   ]
  },
  {
   "cell_type": "code",
   "execution_count": 14,
   "metadata": {},
   "outputs": [
    {
     "data": {
      "image/png": "[encoded data removed]",
      "text/plain": [
       "<Figure size 576x576 with 1 Axes>"
      ]
     },
     "metadata": {
      "needs_background": "light"
     },
     "output_type": "display_data"
    }
   ],
   "source": [
    "def preprocess_dataset(raw_images, num_classes=10, width=32, height=32):\n",
    "    tfms = transforms.Compose([\n",
    "        transforms.Resize((width, height)),\n",
    "        transforms.PILToTensor()\n",
    "    ])\n",
    "    \n",
    "    images = []\n",
    "    labels = []\n",
    "    count = 0\n",
    "    \n",
    "    for image, label in raw_images:\n",
    "        tensor_image = tfms(image)\n",
    "        tensor_image = tensor_image.permute(1, 2, 0).unsqueeze(0) # Shape - (batch, channels, width, height)\n",
    "        \n",
    "        images.append(tensor_image)\n",
    "        \n",
    "        one_hot_label = torch.zeros((1, num_classes))\n",
    "        one_hot_label[:, label] = 1\n",
    "        \n",
    "        labels.append(one_hot_label)\n",
    "        \n",
    "    images = torch.cat(images)\n",
    "    labels = torch.cat(labels)\n",
    "    \n",
    "#     print(f\"Images shape: {images.shape}\\nLabels shape: {labels.shape}\\n\")\n",
    "    \n",
    "    return images, labels\n",
    "    \n",
    "def plot_image(images, labels):\n",
    "    # Shape - (batch, widht, height, channel)\n",
    "    \n",
    "    idx = random.randint(0, len(images))\n",
    "    \n",
    "    image2plot = images[idx]\n",
    "    label = torch.argmax(labels[idx]).item()\n",
    "    \n",
    "    fig, axs = plt.subplots(1,1, figsize=(8, 8))\n",
    "    axs.imshow(image2plot)\n",
    "    fig.suptitle(f\"Number {label}\", fontsize=28)\n",
    "    plt.axis('off')\n",
    "    \n",
    "    plt.show()\n",
    "    \n",
    "X_train, y_train = preprocess_dataset(mnist_trainset, width=32, height=32)\n",
    "X_test, y_test = preprocess_dataset(mnist_testset, width=32, height=32)\n",
    "\n",
    "plot_image(X_train, y_train)"
   ]
  },
  {
   "cell_type": "markdown",
   "metadata": {},
   "source": [
    "# Create dataset and dataloader"
   ]
  },
  {
   "cell_type": "code",
   "execution_count": 15,
   "metadata": {},
   "outputs": [],
   "source": [
    "class MNISTDataset(Dataset):\n",
    "    def __init__(self, data):\n",
    "        self.data = data\n",
    "        self.images, self.labels = preprocess_dataset(data, num_classes=NUM_CLASSES, width=WIDTH, height=HEIGHT)\n",
    "        \n",
    "    def __len__(self):\n",
    "        return len(self.images)\n",
    "    \n",
    "    def __getitem__(self, idx):\n",
    "        return self.images[idx], self.labels[idx]"
   ]
  },
  {
   "cell_type": "code",
   "execution_count": 16,
   "metadata": {},
   "outputs": [],
   "source": [
    "train_ds = MNISTDataset(mnist_trainset)\n",
    "test_ds = MNISTDataset(mnist_testset)"
   ]
  },
  {
   "cell_type": "code",
   "execution_count": 17,
   "metadata": {},
   "outputs": [],
   "source": [
    "train_dl = DataLoader(train_ds, batch_size=BATCH_SIZE, shuffle=True)\n",
    "test_dl = DataLoader(test_ds, batch_size=BATCH_SIZE, shuffle=True)"
   ]
  },
  {
   "cell_type": "markdown",
   "metadata": {},
   "source": [
    "# Create an instance of the model"
   ]
  },
  {
   "cell_type": "code",
   "execution_count": 18,
   "metadata": {},
   "outputs": [],
   "source": [
    "torch.cuda.empty_cache()\n",
    "\n",
    "vit = ViT(image_shape=(BATCH_SIZE, WIDTH, HEIGHT, CHANNELS),\n",
    "          patch_size=PATCHES_DIM,\n",
    "          emb_dim=EMBEDDING_DIM,\n",
    "          num_categories=NUM_CLASSES,\n",
    "          nheads=NHEADS, \n",
    "          num_layers=NUM_LAYERS,\n",
    "          dropout_p=DROPOUT_P,\n",
    "          att_bias=False,\n",
    "          forward_expansion=FORWARD_EXPANSION,\n",
    "          mlp_expansion=MLP_EXPANSION,\n",
    "          device=DEVICE\n",
    "         ).to(DEVICE)\n",
    "\n",
    "optim = torch.optim.SGD(vit.parameters(), lr=LEARNING_RATE, momentum=MOMENTUM)\n",
    "criterion = nn.CrossEntropyLoss()"
   ]
  },
  {
   "cell_type": "markdown",
   "metadata": {},
   "source": [
    "# Training and evaluate the model"
   ]
  },
  {
   "cell_type": "code",
   "execution_count": 19,
   "metadata": {},
   "outputs": [],
   "source": [
    "def train_model(model, data, criterion, optimizer, device):\n",
    "    model.train()\n",
    "    \n",
    "    optimizer.zero_grad()\n",
    "    \n",
    "    images, categories = data\n",
    "    \n",
    "    images = images.float() # Shape - (batch, width, height, channels)\n",
    "    categories = categories.float().to(device) # Shape - (batch, num_categories)\n",
    "    \n",
    "    preds = model(images)\n",
    "    \n",
    "    corrects = torch.sum((torch.argmax(preds, dim=1) == torch.argmax(categories, dim=1)).int())\n",
    "    number_samples = categories.shape[0]\n",
    "    \n",
    "    acc = corrects / number_samples\n",
    "\n",
    "#     print(f\"Accuracy: {corrects / number_samples} Number of samples: {number_samples} Corrects: {corrects}\")\n",
    "    \n",
    "    loss = criterion(preds, categories)\n",
    "    \n",
    "    loss.backward()\n",
    "    optimizer.step()\n",
    "    \n",
    "    return loss.item(), acc"
   ]
  },
  {
   "cell_type": "code",
   "execution_count": 20,
   "metadata": {},
   "outputs": [],
   "source": [
    "def eval_model(model, data, criterion, device):\n",
    "    model.eval()\n",
    "    with torch.no_grad():\n",
    "        images, categories = data\n",
    "        \n",
    "        images = images.float()\n",
    "        categories = categories.float().to(device)\n",
    "        \n",
    "        preds = model(images)\n",
    "        \n",
    "        corrects = torch.sum((torch.argmax(preds, dim=1) == torch.argmax(categories, dim=1)).int())\n",
    "        number_samples = categories.shape[0]\n",
    "    \n",
    "        acc = corrects / number_samples\n",
    "        \n",
    "        loss = criterion(preds, categories)\n",
    "        \n",
    "        return loss.item(), acc"
   ]
  },
  {
   "cell_type": "code",
   "execution_count": 21,
   "metadata": {
    "scrolled": true
   },
   "outputs": [
    {
     "name": "stdout",
     "output_type": "stream",
     "text": [
      "|TRAINING|Epoch number: 1|Loss: 57.7973148804158|Accuracy: 39.4951171875|\n",
      "|TEST    |Epoch number: 1|Loss: 5.5975954993627965|Accuracy: 7.9697265625|\n",
      "\n",
      "|TRAINING|Epoch number: 2|Loss: 38.91039568069391|Accuracy: 45.5986328125|\n",
      "|TEST    |Epoch number: 2|Loss: 4.588100387016311|Accuracy: 8.2724609375|\n",
      "\n",
      "|TRAINING|Epoch number: 3|Loss: 33.9445133570116|Accuracy: 47.2421875|\n",
      "|TEST    |Epoch number: 3|Loss: 3.934778643772006|Accuracy: 8.5185546875|\n",
      "\n",
      "|TRAINING|Epoch number: 4|Loss: 30.591266679693945|Accuracy: 48.2900390625|\n",
      "|TEST    |Epoch number: 4|Loss: 3.710904291132465|Accuracy: 8.638671875|\n",
      "\n",
      "|TRAINING|Epoch number: 5|Loss: 28.414405033923686|Accuracy: 48.982421875|\n",
      "|TEST    |Epoch number: 5|Loss: 3.4062108964426443|Accuracy: 8.654296875|\n",
      "\n",
      "|TRAINING|Epoch number: 6|Loss: 26.547979576746002|Accuracy: 49.57421875|\n",
      "|TEST    |Epoch number: 6|Loss: 3.324443028483074|Accuracy: 8.6904296875|\n",
      "\n",
      "|TRAINING|Epoch number: 7|Loss: 25.092968486482278|Accuracy: 49.974609375|\n",
      "|TEST    |Epoch number: 7|Loss: 3.0380668588913977|Accuracy: 8.8095703125|\n",
      "\n",
      "|TRAINING|Epoch number: 8|Loss: 23.845605644630268|Accuracy: 50.423828125|\n",
      "|TEST    |Epoch number: 8|Loss: 3.2068661296507344|Accuracy: 8.7451171875|\n",
      "\n",
      "|TRAINING|Epoch number: 9|Loss: 22.733651653979905|Accuracy: 50.6826171875|\n",
      "|TEST    |Epoch number: 9|Loss: 2.9023065496003255|Accuracy: 8.8447265625|\n",
      "\n",
      "|TRAINING|Epoch number: 10|Loss: 22.022012549685314|Accuracy: 50.986328125|\n",
      "|TEST    |Epoch number: 10|Loss: 3.0042998685967177|Accuracy: 8.8349609375|\n",
      "\n",
      "|TRAINING|Epoch number: 11|Loss: 21.148855570703745|Accuracy: 51.181640625|\n",
      "|TEST    |Epoch number: 11|Loss: 2.8890128420025576|Accuracy: 8.833984375|\n",
      "\n",
      "|TRAINING|Epoch number: 12|Loss: 20.619926714221947|Accuracy: 51.3154296875|\n",
      "|TEST    |Epoch number: 12|Loss: 2.699061695195269|Accuracy: 8.9111328125|\n",
      "\n",
      "|TRAINING|Epoch number: 13|Loss: 19.669063516892493|Accuracy: 51.73828125|\n",
      "|TEST    |Epoch number: 13|Loss: 2.8286393330199644|Accuracy: 8.89453125|\n",
      "\n",
      "|TRAINING|Epoch number: 14|Loss: 19.090322897885926|Accuracy: 51.7451171875|\n",
      "|TEST    |Epoch number: 14|Loss: 2.4507185920956545|Accuracy: 8.998046875|\n",
      "\n",
      "|TRAINING|Epoch number: 15|Loss: 18.656863056123257|Accuracy: 51.9755859375|\n",
      "|TEST    |Epoch number: 15|Loss: 2.5108087175467517|Accuracy: 8.9599609375|\n",
      "\n",
      "|TRAINING|Epoch number: 16|Loss: 18.164368481287966|Accuracy: 52.146484375|\n",
      "|TEST    |Epoch number: 16|Loss: 2.33787066777586|Accuracy: 9.017578125|\n",
      "\n",
      "|TRAINING|Epoch number: 17|Loss: 17.544645001878962|Accuracy: 52.3505859375|\n",
      "|TEST    |Epoch number: 17|Loss: 2.255001686193282|Accuracy: 9.0654296875|\n",
      "\n",
      "|TRAINING|Epoch number: 18|Loss: 17.099379566090647|Accuracy: 52.40234375|\n",
      "|TEST    |Epoch number: 18|Loss: 2.4592796009674203|Accuracy: 9.0263671875|\n",
      "\n",
      "|TRAINING|Epoch number: 19|Loss: 16.837259828927927|Accuracy: 52.5146484375|\n",
      "|TEST    |Epoch number: 19|Loss: 2.2883743517741095|Accuracy: 9.0546875|\n",
      "\n",
      "|TRAINING|Epoch number: 20|Loss: 16.312201605062|Accuracy: 52.72265625|\n",
      "|TEST    |Epoch number: 20|Loss: 2.270834503637161|Accuracy: 9.0498046875|\n",
      "\n",
      "|TRAINING|Epoch number: 21|Loss: 15.914665964606684|Accuracy: 52.7822265625|\n",
      "|TEST    |Epoch number: 21|Loss: 2.4904656190774404|Accuracy: 8.998046875|\n",
      "\n",
      "|TRAINING|Epoch number: 22|Loss: 15.731749276746996|Accuracy: 52.744140625|\n",
      "|TEST    |Epoch number: 22|Loss: 2.260923624970019|Accuracy: 9.076171875|\n",
      "\n",
      "|TRAINING|Epoch number: 23|Loss: 15.308390838414198|Accuracy: 52.9072265625|\n",
      "|TEST    |Epoch number: 23|Loss: 2.347947608694085|Accuracy: 9.0673828125|\n",
      "\n",
      "|TRAINING|Epoch number: 24|Loss: 14.90213226081687|Accuracy: 53.0859375|\n",
      "|TEST    |Epoch number: 24|Loss: 2.340825207767921|Accuracy: 9.076171875|\n",
      "\n",
      "|TRAINING|Epoch number: 25|Loss: 14.65355313042528|Accuracy: 53.130859375|\n",
      "|TEST    |Epoch number: 25|Loss: 2.407440089038573|Accuracy: 9.041015625|\n",
      "\n"
     ]
    }
   ],
   "source": [
    "training_loss_epoch = []\n",
    "training_acc_epoch = []\n",
    "\n",
    "eval_loss_epoch = []\n",
    "eval_acc_epoch = []\n",
    "\n",
    "torch.cuda.empty_cache()\n",
    "\n",
    "for ep in range(1, EPOCHS + 1):\n",
    "    # Train\n",
    "    train_loss_epoch = 0\n",
    "    train_acc_epoch = 0\n",
    "    \n",
    "    for data in train_dl:\n",
    "        if data[0].shape[0] == BATCH_SIZE: # Check if there are same number of images as batch size\n",
    "            loss, acc = train_model(vit, data, criterion, optim, DEVICE)\n",
    "        \n",
    "            train_loss_epoch += loss\n",
    "            train_acc_epoch += acc\n",
    "    \n",
    "    training_loss_epoch.append(train_loss_epoch / BATCH_SIZE)\n",
    "    training_acc_epoch.append(train_acc_epoch / BATCH_SIZE)\n",
    "    \n",
    "    print(f\"|TRAINING|Epoch number: {ep}|Loss: {training_loss_epoch[-1]}|Accuracy: {training_acc_epoch[-1]}|\")\n",
    "    \n",
    "    torch.cuda.empty_cache()\n",
    "\n",
    "    # Test\n",
    "    test_loss_epoch = 0\n",
    "    test_acc_epoch = 0\n",
    "    \n",
    "    for data in test_dl:\n",
    "        if data[0].shape[0] == BATCH_SIZE: # Check if there are same number of images as batch size\n",
    "            loss, acc = eval_model(vit, data, criterion, DEVICE)\n",
    "\n",
    "            test_loss_epoch += loss\n",
    "            test_acc_epoch += acc\n",
    "        \n",
    "    eval_loss_epoch.append(test_loss_epoch / BATCH_SIZE)\n",
    "    eval_acc_epoch.append(test_acc_epoch / BATCH_SIZE)\n",
    "        \n",
    "    print(f\"|TEST    |Epoch number: {ep}|Loss: {eval_loss_epoch[-1]}|Accuracy: {eval_acc_epoch[-1]}|\\n\")"
   ]
  },
  {
   "cell_type": "markdown",
   "metadata": {},
   "source": [
    "# Plot the model performance"
   ]
  },
  {
   "cell_type": "code",
   "execution_count": 22,
   "metadata": {
    "scrolled": false
   },
   "outputs": [
    {
     "data": {
      "image/png": "[encoded data removed]",
      "text/plain": [
       "<Figure size 936x576 with 2 Axes>"
      ]
     },
     "metadata": {
      "needs_background": "light"
     },
     "output_type": "display_data"
    }
   ],
   "source": [
    "fig, axs = plt.subplots(1, 2, figsize=(13, 8))\n",
    "\n",
    "axs[0].plot(training_loss_epoch, label=\"Training Loss\")\n",
    "axs[0].plot(training_acc_epoch, label=\"Training Accuracy\")\n",
    "axs[0].grid(True)\n",
    "axs[0].legend(prop={'size': 16})\n",
    "axs[0].set_xlabel(\"Epochs\", fontsize=20)\n",
    "\n",
    "axs[1].plot(eval_loss_epoch, label=\"Testing Accuracy\")\n",
    "axs[1].plot(eval_acc_epoch, label=\"Testing Accuracy\")\n",
    "axs[1].grid(True)\n",
    "axs[1].legend(prop={'size': 16})\n",
    "axs[1].set_xlabel(\"Epochs\", fontsize=20)\n",
    "\n",
    "plt.show()"
   ]
  },
  {
   "cell_type": "markdown",
   "metadata": {},
   "source": [
    "# Testing the model"
   ]
  },
  {
   "cell_type": "code",
   "execution_count": 36,
   "metadata": {},
   "outputs": [],
   "source": [
    "def test_model(model, data, device, div=4):\n",
    "    model.eval()\n",
    "    \n",
    "    images, categories = data\n",
    "    \n",
    "    images = images.float()\n",
    "    categories = categories.float().to(device)\n",
    "    \n",
    "    with torch.no_grad():\n",
    "        \n",
    "        preds = model(images)\n",
    "        \n",
    "        corrects = torch.sum((torch.argmax(preds, dim=1) == torch.argmax(categories, dim=1)).int())\n",
    "        number_samples = categories.shape[0]\n",
    "        acc = (corrects / number_samples) * 100\n",
    "    \n",
    "        print(f\"|Total images: {number_samples}|Corrected predicted: {corrects}| Accuracy: {acc}%|\")\n",
    "        \n",
    "        preds = torch.max(preds, dim=1).indices\n",
    "        \n",
    "        num_rows = number_samples // div\n",
    "        \n",
    "        fig, axs = plt.subplots(num_rows, div, figsize=(15, 15))\n",
    "        rows, cols = axs.shape\n",
    "        \n",
    "        j = 0\n",
    "        img_idx = 0\n",
    "        \n",
    "        for r in range(rows):\n",
    "            for c in range(cols):\n",
    "                axs[r][c].imshow(images[img_idx,:,:,:])\n",
    "                axs[r][c].set_title(f\"Prediction: {preds[j].item()}\")\n",
    "                axs[r][c].axis('off')\n",
    "\n",
    "                j += 1\n",
    "                img_idx +=1\n",
    "                    \n",
    "        fig.tight_layout()\n",
    "        plt.show()"
   ]
  },
  {
   "cell_type": "code",
   "execution_count": 37,
   "metadata": {
    "scrolled": false
   },
   "outputs": [
    {
     "name": "stdout",
     "output_type": "stream",
     "text": [
      "|Total images: 32|Corrected predicted: 28| Accuracy: 87.5%|\n"
     ]
    },
    {
     "data": {
      "image/png": "[encoded data removed]",
      "text/plain": [
       "<Figure size 1080x1080 with 32 Axes>"
      ]
     },
     "metadata": {
      "needs_background": "light"
     },
     "output_type": "display_data"
    }
   ],
   "source": [
    "random_data = next(iter(test_dl))\n",
    "test_model(vit, random_data, DEVICE)"
   ]
  }
 ],
 "metadata": {
  "kernelspec": {
   "display_name": "Python 3",
   "language": "python",
   "name": "python3"
  },
  "language_info": {
   "codemirror_mode": {
    "name": "ipython",
    "version": 3
   },
   "file_extension": ".py",
   "mimetype": "text/x-python",
   "name": "python",
   "nbconvert_exporter": "python",
   "pygments_lexer": "ipython3",
   "version": "3.7.7"
  }
 },
 "nbformat": 4,
 "nbformat_minor": 5
}
